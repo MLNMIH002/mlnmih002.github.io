{
    "cells": [
        {
            "metadata": {},
            "cell_type": "markdown",
            "source": "<center>\n    <img src=\"https://gitlab.com/ibm/skills-network/courses/placeholder101/-/raw/master/labs/module%201/images/IDSNlogo.png\" width=\"300\" alt=\"cognitiveclass.ai logo\"  />\n</center>\n"
        },
        {
            "metadata": {},
            "cell_type": "markdown",
            "source": "# **Survey Dataset Exploration Lab**\n"
        },
        {
            "metadata": {},
            "cell_type": "markdown",
            "source": "Estimated time needed: **30** minutes\n"
        },
        {
            "metadata": {},
            "cell_type": "markdown",
            "source": "## Objectives\n"
        },
        {
            "metadata": {},
            "cell_type": "markdown",
            "source": "After completing this lab you will be able to:\n"
        },
        {
            "metadata": {},
            "cell_type": "markdown",
            "source": "*   Load the dataset that will used thru the capstone project.\n*   Explore the dataset.\n*   Get familier with the data types.\n"
        },
        {
            "metadata": {},
            "cell_type": "markdown",
            "source": "## Load the dataset\n"
        },
        {
            "metadata": {},
            "cell_type": "markdown",
            "source": "Import the required libraries.\n"
        },
        {
            "metadata": {},
            "cell_type": "code",
            "source": "import pandas as pd",
            "execution_count": 2,
            "outputs": []
        },
        {
            "metadata": {},
            "cell_type": "markdown",
            "source": "The dataset is available on the IBM Cloud at the below url.\n"
        },
        {
            "metadata": {},
            "cell_type": "code",
            "source": "dataset_url = \"https://cf-courses-data.s3.us.cloud-object-storage.appdomain.cloud/IBM-DA0321EN-SkillsNetwork/LargeData/m1_survey_data.csv\"",
            "execution_count": 3,
            "outputs": []
        },
        {
            "metadata": {},
            "cell_type": "markdown",
            "source": "Load the data available at dataset_url into a dataframe.\n"
        },
        {
            "metadata": {},
            "cell_type": "code",
            "source": "# your code goes here\ndata = pd.read_csv(dataset_url)\n",
            "execution_count": 4,
            "outputs": []
        },
        {
            "metadata": {},
            "cell_type": "markdown",
            "source": "## Explore the data set\n"
        },
        {
            "metadata": {},
            "cell_type": "markdown",
            "source": "It is a good idea to print the top 5 rows of the dataset to get a feel of how the dataset will look.\n"
        },
        {
            "metadata": {},
            "cell_type": "markdown",
            "source": "Display the top 5 rows and columns from your dataset.\n"
        },
        {
            "metadata": {},
            "cell_type": "code",
            "source": "# your code goes here\n\n# Select first 5 columns\nN = 5\nfirst_5_column = data.iloc[: , :N]\n# Select first 5 rows\nfirst__5_row_column = first_5_column.head()\nfirst__5_row_column",
            "execution_count": 9,
            "outputs": [
                {
                    "output_type": "execute_result",
                    "execution_count": 9,
                    "data": {
                        "text/plain": "   Respondent                      MainBranch Hobbyist  \\\n0           4  I am a developer by profession       No   \n1           9  I am a developer by profession      Yes   \n2          13  I am a developer by profession      Yes   \n3          16  I am a developer by profession      Yes   \n4          17  I am a developer by profession      Yes   \n\n                                         OpenSourcer  \\\n0                                              Never   \n1                         Once a month or more often   \n2  Less than once a month but more than once per ...   \n3                                              Never   \n4  Less than once a month but more than once per ...   \n\n                                          OpenSource  \n0  The quality of OSS and closed source software ...  \n1  The quality of OSS and closed source software ...  \n2  OSS is, on average, of HIGHER quality than pro...  \n3  The quality of OSS and closed source software ...  \n4  The quality of OSS and closed source software ...  ",
                        "text/html": "<div>\n<style scoped>\n    .dataframe tbody tr th:only-of-type {\n        vertical-align: middle;\n    }\n\n    .dataframe tbody tr th {\n        vertical-align: top;\n    }\n\n    .dataframe thead th {\n        text-align: right;\n    }\n</style>\n<table border=\"1\" class=\"dataframe\">\n  <thead>\n    <tr style=\"text-align: right;\">\n      <th></th>\n      <th>Respondent</th>\n      <th>MainBranch</th>\n      <th>Hobbyist</th>\n      <th>OpenSourcer</th>\n      <th>OpenSource</th>\n    </tr>\n  </thead>\n  <tbody>\n    <tr>\n      <th>0</th>\n      <td>4</td>\n      <td>I am a developer by profession</td>\n      <td>No</td>\n      <td>Never</td>\n      <td>The quality of OSS and closed source software ...</td>\n    </tr>\n    <tr>\n      <th>1</th>\n      <td>9</td>\n      <td>I am a developer by profession</td>\n      <td>Yes</td>\n      <td>Once a month or more often</td>\n      <td>The quality of OSS and closed source software ...</td>\n    </tr>\n    <tr>\n      <th>2</th>\n      <td>13</td>\n      <td>I am a developer by profession</td>\n      <td>Yes</td>\n      <td>Less than once a month but more than once per ...</td>\n      <td>OSS is, on average, of HIGHER quality than pro...</td>\n    </tr>\n    <tr>\n      <th>3</th>\n      <td>16</td>\n      <td>I am a developer by profession</td>\n      <td>Yes</td>\n      <td>Never</td>\n      <td>The quality of OSS and closed source software ...</td>\n    </tr>\n    <tr>\n      <th>4</th>\n      <td>17</td>\n      <td>I am a developer by profession</td>\n      <td>Yes</td>\n      <td>Less than once a month but more than once per ...</td>\n      <td>The quality of OSS and closed source software ...</td>\n    </tr>\n  </tbody>\n</table>\n</div>"
                    },
                    "metadata": {}
                }
            ]
        },
        {
            "metadata": {},
            "cell_type": "markdown",
            "source": "## Find out the number of rows and columns\n"
        },
        {
            "metadata": {},
            "cell_type": "markdown",
            "source": "Start by exploring the numbers of rows and columns of data in the dataset.\n"
        },
        {
            "metadata": {},
            "cell_type": "markdown",
            "source": "Print the number of rows in the dataset.\n"
        },
        {
            "metadata": {},
            "cell_type": "code",
            "source": "# your code goes here\n# Number of rows\nlen(data)\n",
            "execution_count": 11,
            "outputs": [
                {
                    "output_type": "execute_result",
                    "execution_count": 11,
                    "data": {
                        "text/plain": "11552"
                    },
                    "metadata": {}
                }
            ]
        },
        {
            "metadata": {},
            "cell_type": "markdown",
            "source": "Print the number of columns in the dataset.\n"
        },
        {
            "metadata": {},
            "cell_type": "code",
            "source": "# your code goes here\n# Number of columns\nlen(data.columns)",
            "execution_count": 12,
            "outputs": [
                {
                    "output_type": "execute_result",
                    "execution_count": 12,
                    "data": {
                        "text/plain": "85"
                    },
                    "metadata": {}
                }
            ]
        },
        {
            "metadata": {},
            "cell_type": "markdown",
            "source": "## Identify the data types of each column\n"
        },
        {
            "metadata": {},
            "cell_type": "markdown",
            "source": "Explore the dataset and identify the data types of each column.\n"
        },
        {
            "metadata": {},
            "cell_type": "markdown",
            "source": "Print the datatype of all columns.\n"
        },
        {
            "metadata": {},
            "cell_type": "code",
            "source": "# your code goes here\ndata_type = (data.dtypes)\ndata_type.to_frame()\n",
            "execution_count": 14,
            "outputs": [
                {
                    "output_type": "execute_result",
                    "execution_count": 14,
                    "data": {
                        "text/plain": "                   0\nRespondent     int64\nMainBranch    object\nHobbyist      object\nOpenSourcer   object\nOpenSource    object\n...              ...\nSexuality     object\nEthnicity     object\nDependents    object\nSurveyLength  object\nSurveyEase    object\n\n[85 rows x 1 columns]",
                        "text/html": "<div>\n<style scoped>\n    .dataframe tbody tr th:only-of-type {\n        vertical-align: middle;\n    }\n\n    .dataframe tbody tr th {\n        vertical-align: top;\n    }\n\n    .dataframe thead th {\n        text-align: right;\n    }\n</style>\n<table border=\"1\" class=\"dataframe\">\n  <thead>\n    <tr style=\"text-align: right;\">\n      <th></th>\n      <th>0</th>\n    </tr>\n  </thead>\n  <tbody>\n    <tr>\n      <th>Respondent</th>\n      <td>int64</td>\n    </tr>\n    <tr>\n      <th>MainBranch</th>\n      <td>object</td>\n    </tr>\n    <tr>\n      <th>Hobbyist</th>\n      <td>object</td>\n    </tr>\n    <tr>\n      <th>OpenSourcer</th>\n      <td>object</td>\n    </tr>\n    <tr>\n      <th>OpenSource</th>\n      <td>object</td>\n    </tr>\n    <tr>\n      <th>...</th>\n      <td>...</td>\n    </tr>\n    <tr>\n      <th>Sexuality</th>\n      <td>object</td>\n    </tr>\n    <tr>\n      <th>Ethnicity</th>\n      <td>object</td>\n    </tr>\n    <tr>\n      <th>Dependents</th>\n      <td>object</td>\n    </tr>\n    <tr>\n      <th>SurveyLength</th>\n      <td>object</td>\n    </tr>\n    <tr>\n      <th>SurveyEase</th>\n      <td>object</td>\n    </tr>\n  </tbody>\n</table>\n<p>85 rows \u00d7 1 columns</p>\n</div>"
                    },
                    "metadata": {}
                }
            ]
        },
        {
            "metadata": {},
            "cell_type": "markdown",
            "source": "Print the mean age of the survey participants.\n"
        },
        {
            "metadata": {},
            "cell_type": "code",
            "source": "# your code goes here\ndata['Age'].mean()",
            "execution_count": 25,
            "outputs": [
                {
                    "output_type": "execute_result",
                    "execution_count": 25,
                    "data": {
                        "text/plain": "30.77239449133718"
                    },
                    "metadata": {}
                }
            ]
        },
        {
            "metadata": {},
            "cell_type": "markdown",
            "source": "The dataset is the result of a world wide survey. Print how many unique countries are there in the Country column.\n"
        },
        {
            "metadata": {},
            "cell_type": "code",
            "source": "# your code goes here\ndata['Country'].unique()",
            "execution_count": 22,
            "outputs": [
                {
                    "output_type": "execute_result",
                    "execution_count": 22,
                    "data": {
                        "text/plain": "array(['United States', 'New Zealand', 'United Kingdom', 'Australia',\n       'Brazil', 'Lithuania', 'Israel', 'South Africa', 'Czech Republic',\n       'Spain', 'Germany', 'Serbia', 'India', 'Sweden', 'China', 'France',\n       'Netherlands', 'Philippines', 'Ireland', 'Pakistan', 'Austria',\n       'Canada', 'Croatia', 'Italy', 'Russian Federation', 'Argentina',\n       'Romania', 'Iran', 'Hungary', 'Latvia', 'Hong Kong (S.A.R.)',\n       'United Arab Emirates', 'Poland', 'Portugal', 'Bulgaria',\n       'Nicaragua', 'Denmark', 'Japan', 'Guatemala', 'Bangladesh',\n       'Ukraine', 'Mexico', 'Egypt', 'Switzerland', 'Mauritius',\n       'South Korea', 'Slovenia', 'Estonia', 'Norway', 'Singapore',\n       'Republic of Moldova', 'Belgium', 'Nigeria', 'Turkey', 'Thailand',\n       'Mongolia', 'Chile', 'Malaysia', 'Georgia', 'Luxembourg',\n       'Dominican Republic', 'Cape Verde', 'Burundi', 'Finland', 'Greece',\n       'Colombia', 'Taiwan', 'Yemen', 'Indonesia', 'Belarus', 'Slovakia',\n       'Nepal', 'Kenya', 'Venezuela, Bolivarian Republic of...',\n       'Armenia', 'Panama', 'Lebanon', 'Kuwait', 'Algeria',\n       \"C\u00f4te d'Ivoire\", 'Bosnia and Herzegovina', 'Brunei Darussalam',\n       'Costa Rica', 'Jordan', 'Zimbabwe', 'Ecuador', 'Albania',\n       'Azerbaijan', 'Other Country (Not Listed Above)', 'Uzbekistan',\n       'The former Yugoslav Republic of Macedonia', 'Sri Lanka', 'Ghana',\n       'Paraguay', 'Peru', 'Viet Nam', 'Malta', 'Rwanda', 'El Salvador',\n       'Uruguay', 'Tunisia', 'Bolivia', 'Honduras', 'Liechtenstein',\n       'Qatar', 'Cameroon', 'Turkmenistan', 'Kyrgyzstan', 'Somalia',\n       'Republic of Korea', 'Cuba', 'Montenegro', 'Monaco', 'Cyprus',\n       'Uganda', 'Senegal', 'Syrian Arab Republic', 'Morocco', 'Ethiopia',\n       'United Republic of Tanzania', 'Iceland', 'Swaziland',\n       'Congo, Republic of the...', 'Saudi Arabia', 'Afghanistan',\n       'Bahrain', 'Timor-Leste', 'Jamaica', 'Myanmar', 'Sudan',\n       'Libyan Arab Jamahiriya', 'Togo', 'Cambodia', 'Mozambique', 'Iraq'],\n      dtype=object)"
                    },
                    "metadata": {}
                }
            ]
        },
        {
            "metadata": {},
            "cell_type": "markdown",
            "source": "## Authors\n"
        },
        {
            "metadata": {},
            "cell_type": "markdown",
            "source": "Ramesh Sannareddy\n"
        },
        {
            "metadata": {},
            "cell_type": "markdown",
            "source": "### Other Contributors\n"
        },
        {
            "metadata": {},
            "cell_type": "markdown",
            "source": "Rav Ahuja\n"
        },
        {
            "metadata": {},
            "cell_type": "markdown",
            "source": "## Change Log\n"
        },
        {
            "metadata": {},
            "cell_type": "markdown",
            "source": "| Date (YYYY-MM-DD) | Version | Changed By        | Change Description                 |\n| ----------------- | ------- | ----------------- | ---------------------------------- |\n| 2020-10-17        | 0.1     | Ramesh Sannareddy | Created initial version of the lab |\n"
        },
        {
            "metadata": {},
            "cell_type": "markdown",
            "source": "Copyright \u00a9 2020 IBM Corporation. This notebook and its source code are released under the terms of the [MIT License](https://cognitiveclass.ai/mit-license?utm_medium=Exinfluencer&utm_source=Exinfluencer&utm_content=000026UJ&utm_term=10006555&utm_id=NA-SkillsNetwork-Channel-SkillsNetworkCoursesIBMDA0321ENSkillsNetwork21426264-2021-01-01&cm_mmc=Email_Newsletter-\\_-Developer_Ed%2BTech-\\_-WW_WW-\\_-SkillsNetwork-Courses-IBM-DA0321EN-SkillsNetwork-21426264&cm_mmca1=000026UJ&cm_mmca2=10006555&cm_mmca3=M12345678&cvosrc=email.Newsletter.M12345678&cvo_campaign=000026UJ).\n"
        }
    ],
    "metadata": {
        "kernelspec": {
            "name": "python3",
            "display_name": "Python 3.9",
            "language": "python"
        },
        "language_info": {
            "name": "python",
            "version": "3.9.7",
            "mimetype": "text/x-python",
            "codemirror_mode": {
                "name": "ipython",
                "version": 3
            },
            "pygments_lexer": "ipython3",
            "nbconvert_exporter": "python",
            "file_extension": ".py"
        }
    },
    "nbformat": 4,
    "nbformat_minor": 4
}