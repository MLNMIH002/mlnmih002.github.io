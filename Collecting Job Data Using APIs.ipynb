{
    "cells": [
        {
            "metadata": {},
            "cell_type": "markdown",
            "source": "<center>\n    <img src=\"https://cf-courses-data.s3.us.cloud-object-storage.appdomain.cloud/IBM-DA0321EN-SkillsNetwork/labs/module%201/images/IDSNlogo.png\" width=\"300\" alt=\"cognitiveclass.ai logo\"  />\n</center>\n"
        },
        {
            "metadata": {},
            "cell_type": "markdown",
            "source": "# **Collecting Job Data Using APIs**\n"
        },
        {
            "metadata": {},
            "cell_type": "markdown",
            "source": "Estimated time needed: **45 to 60** minutes\n"
        },
        {
            "metadata": {},
            "cell_type": "markdown",
            "source": "## Objectives\n"
        },
        {
            "metadata": {},
            "cell_type": "markdown",
            "source": "After completing this lab, you will be able to:\n"
        },
        {
            "metadata": {},
            "cell_type": "markdown",
            "source": "*   Collect job data from Jobs API\n*   Store the collected data into an excel spreadsheet.\n"
        },
        {
            "metadata": {},
            "cell_type": "markdown",
            "source": "> <strong>Note: Before starting with the assignment make sure to read all the instructions and then move ahead with the coding part.</strong>\n"
        },
        {
            "metadata": {},
            "cell_type": "markdown",
            "source": "#### Instructions\n"
        },
        {
            "metadata": {},
            "cell_type": "markdown",
            "source": "To run the actual lab, firstly you need to click on the [Jobs_API](https://cf-courses-data.s3.us.cloud-object-storage.appdomain.cloud/IBM-DA0321EN-SkillsNetwork/labs/module%201/Accessing%20Data%20Using%20APIs/Jobs_API.ipynb) notebook link. The file contains flask code which is required to run the Jobs API data.\n\nNow, to run the code in the file that opens up follow the below steps.\n\nStep1: Download the file.\n\nStep2: Upload it on the IBM Watson studio. (If IBM Watson Cloud service does not work in your system, follow the alternate Step 2 below)\n\nStep2(alternate): Upload it in your SN labs environment using the upload button which is highlighted in red in the image below:\nRemember to upload this Jobs_API file in the same folder as your current .ipynb file\n\n<img src=\"https://cf-courses-data.s3.us.cloud-object-storage.appdomain.cloud/IBM-DA0321EN-SkillsNetwork/labs/module%201/Accessing%20Data%20Using%20APIs/Upload.PNG\" />\n\nStep3:  Run all the cells of the Jobs_API file. (Even if you receive an asterik sign after running the last cell, the code works fine.)\n\nIf you want to learn more about flask, which is optional, you can click on this link [here](https://cf-courses-data.s3.us.cloud-object-storage.appdomain.cloud/IBM-DA0321EN-SkillsNetwork/labs/module%201/Accessing%20Data%20Using%20APIs/FLASK_API.md.html).\n\nOnce you run the flask code, you can start with your assignment.\n"
        },
        {
            "metadata": {},
            "cell_type": "markdown",
            "source": "## Dataset Used in this Assignment\n\nThe dataset used in this lab comes from the following source: [https://www.kaggle.com/promptcloud/jobs-on-naukricom](https://www.kaggle.com/promptcloud/jobs-on-naukricom?utm_medium=Exinfluencer&utm_source=Exinfluencer&utm_content=000026UJ&utm_term=10006555&utm_id=NA-SkillsNetwork-Channel-SkillsNetworkCoursesIBMDA0321ENSkillsNetwork21426264-2021-01-01) under the under a **Public Domain license**.\n\n> Note: We are using a modified subset of that dataset for the lab, so to follow the lab instructions successfully please use the dataset provided with the lab, rather than the dataset from the original source.\n\nThe original dataset is a csv. We have converted the csv to json as per the requirement of the lab.\n"
        },
        {
            "metadata": {},
            "cell_type": "markdown",
            "source": "## Warm-Up Exercise\n"
        },
        {
            "metadata": {},
            "cell_type": "markdown",
            "source": "Before you attempt the actual lab, here is a fully solved warmup exercise that will help you to learn how to access an API.\n"
        },
        {
            "metadata": {},
            "cell_type": "markdown",
            "source": "Using an API, let us find out who currently are on the International Space Station (ISS).<br> The API at [http://api.open-notify.org/astros.json](http://api.open-notify.org/astros.json?utm_medium=Exinfluencer&utm_source=Exinfluencer&utm_content=000026UJ&utm_term=10006555&utm_id=NA-SkillsNetwork-Channel-SkillsNetworkCoursesIBMDA0321ENSkillsNetwork21426264-2021-01-01&cm_mmc=Email_Newsletter-\\_-Developer_Ed%2BTech-\\_-WW_WW-\\_-SkillsNetwork-Courses-IBM-DA0321EN-SkillsNetwork-21426264&cm_mmca1=000026UJ&cm_mmca2=10006555&cm_mmca3=M12345678&cvosrc=email.Newsletter.M12345678&cvo_campaign=000026UJ) gives us the information of astronauts currently on ISS in json format.<br>\nYou can read more about this API at [http://open-notify.org/Open-Notify-API/People-In-Space/](http://open-notify.org/Open-Notify-API/People-In-Space?utm_medium=Exinfluencer&utm_source=Exinfluencer&utm_content=000026UJ&utm_term=10006555&utm_id=NA-SkillsNetwork-Channel-SkillsNetworkCoursesIBMDA0321ENSkillsNetwork21426264-2021-01-01&cm_mmc=Email_Newsletter-\\_-Developer_Ed%2BTech-\\_-WW_WW-\\_-SkillsNetwork-Courses-IBM-DA0321EN-SkillsNetwork-21426264&cm_mmca1=000026UJ&cm_mmca2=10006555&cm_mmca3=M12345678&cvosrc=email.Newsletter.M12345678&cvo_campaign=000026UJ)\n"
        },
        {
            "metadata": {},
            "cell_type": "code",
            "source": "import requests # you need this module to make an API call\nimport pandas as pd",
            "execution_count": 10,
            "outputs": []
        },
        {
            "metadata": {},
            "cell_type": "code",
            "source": "api_url = \"http://api.open-notify.org/astros.json\" # this url gives use the astronaut data",
            "execution_count": 4,
            "outputs": []
        },
        {
            "metadata": {},
            "cell_type": "code",
            "source": "response = requests.get(api_url) # Call the API using the get method and store the\n                                # output of the API call in a variable called response.",
            "execution_count": 5,
            "outputs": []
        },
        {
            "metadata": {},
            "cell_type": "code",
            "source": "if response.ok:             # if all is well() no errors, no network timeouts)\n    data = response.json()  # store the result in json format in a variable called data\n                            # the variable data is of type dictionary.",
            "execution_count": 6,
            "outputs": []
        },
        {
            "metadata": {},
            "cell_type": "code",
            "source": "",
            "execution_count": null,
            "outputs": []
        },
        {
            "metadata": {},
            "cell_type": "code",
            "source": "print(data)   # print the data just to check the output or for debugging",
            "execution_count": 7,
            "outputs": [
                {
                    "output_type": "stream",
                    "text": "{'people': [{'craft': 'Shenzhou 13', 'name': 'Zhai Zhigang'}, {'craft': 'Shenzhou 13', 'name': 'Wang Yaping'}, {'craft': 'Shenzhou 13', 'name': 'Ye Guangfu'}, {'craft': 'ISS', 'name': 'Raja Chari'}, {'craft': 'ISS', 'name': 'Tom Marshburn'}, {'craft': 'ISS', 'name': 'Kayla Barron'}, {'craft': 'ISS', 'name': 'Matthias Maurer'}, {'craft': 'ISS', 'name': 'Oleg Artemyev'}, {'craft': 'ISS', 'name': 'Denis Matveev'}, {'craft': 'ISS', 'name': 'Sergey Korsakov'}, {'craft': 'ISS', 'name': 'Michael Lopez-Alegria'}, {'craft': 'ISS', 'name': 'Larry Connor'}, {'craft': 'ISS', 'name': 'Mark Pathy'}, {'craft': 'ISS', 'name': 'Eytan Stibbe'}], 'message': 'success', 'number': 14}\n",
                    "name": "stdout"
                }
            ]
        },
        {
            "metadata": {},
            "cell_type": "markdown",
            "source": "Print the number of astronauts currently on ISS.\n"
        },
        {
            "metadata": {},
            "cell_type": "code",
            "source": "print(data.get('number'))",
            "execution_count": 8,
            "outputs": [
                {
                    "output_type": "stream",
                    "text": "14\n",
                    "name": "stdout"
                }
            ]
        },
        {
            "metadata": {},
            "cell_type": "markdown",
            "source": "Print the names of the astronauts currently on ISS.\n"
        },
        {
            "metadata": {},
            "cell_type": "code",
            "source": "astronauts = data.get('people')\nprint(\"There are {} astronauts on ISS\".format(len(astronauts)))\nprint(\"And their names are :\")\nfor astronaut in astronauts:\n    print(astronaut.get('name'))",
            "execution_count": 9,
            "outputs": [
                {
                    "output_type": "stream",
                    "text": "There are 14 astronauts on ISS\nAnd their names are :\nZhai Zhigang\nWang Yaping\nYe Guangfu\nRaja Chari\nTom Marshburn\nKayla Barron\nMatthias Maurer\nOleg Artemyev\nDenis Matveev\nSergey Korsakov\nMichael Lopez-Alegria\nLarry Connor\nMark Pathy\nEytan Stibbe\n",
                    "name": "stdout"
                }
            ]
        },
        {
            "metadata": {},
            "cell_type": "markdown",
            "source": "Hope the warmup was helpful. Good luck with your next lab!\n"
        },
        {
            "metadata": {},
            "cell_type": "markdown",
            "source": "## Lab: Collect Jobs Data using Jobs API\n"
        },
        {
            "metadata": {},
            "cell_type": "markdown",
            "source": "### Objective: Determine the number of jobs currently open for various technologies  and for various locations\n"
        },
        {
            "metadata": {},
            "cell_type": "markdown",
            "source": "Collect the number of job postings for the following locations using the API:\n\n*   Los Angeles\n*   New York\n*   San Francisco\n*   Washington DC\n*   Seattle\n*   Austin\n*   Detroit\n"
        },
        {
            "metadata": {},
            "cell_type": "code",
            "source": "#Import required libraries\nimport pandas as pd\nimport json",
            "execution_count": 11,
            "outputs": []
        },
        {
            "metadata": {},
            "cell_type": "markdown",
            "source": "#### Write a function to get the number of jobs for the Python technology.<br>\n\n> Note: While using the lab you need to pass the **payload** information for the **params** attribute in the form of **key** **value** pairs.\n\nRefer the ungraded **rest api lab** in the course **Python for Data Science, AI & Development**  <a href=\"https://www.coursera.org/learn/python-for-applied-data-science-ai/ungradedLti/P6sW8/hands-on-lab-access-rest-apis-request-http?utm_medium=Exinfluencer&utm_source=Exinfluencer&utm_content=000026UJ&utm_term=10006555&utm_id=NA-SkillsNetwork-Channel-SkillsNetworkCoursesIBMDA0321ENSkillsNetwork21426264-2021-01-01\">link</a>\n\n##### The keys in the json are\n\n*   Job Title\n\n*   Job Experience Required\n\n*   Key Skills\n\n*   Role Category\n\n*   Location\n\n*   Functional Area\n\n*   Industry\n\n*   Role\n\nYou can also view  the json file contents  from the following <a href = \"https://cf-courses-data.s3.us.cloud-object-storage.appdomain.cloud/IBM-DA0321EN-SkillsNetwork/labs/module%201/Accessing%20Data%20Using%20APIs/jobs.json?utm_medium=Exinfluencer&utm_source=Exinfluencer&utm_content=000026UJ&utm_term=10006555&utm_id=NA-SkillsNetwork-Channel-SkillsNetworkCoursesIBMDA0321ENSkillsNetwork21426264-2021-01-01\">json</a> URL.\n"
        },
        {
            "metadata": {},
            "cell_type": "code",
            "source": "api_url1=\"http://127.0.0.1:5000/data\"\n\ndef get_number_of_jobs_T(technology):\n    payload = {'Key Skills':technology}\n    response1 = requests.get(api_url1, params=payload)\n    data1=response1.json()\n    number_of_jobs = len(data1)\n    #your code goes here\n    return technology,number_of_jobs\n",
            "execution_count": 12,
            "outputs": []
        },
        {
            "metadata": {},
            "cell_type": "markdown",
            "source": "Calling the function for Python and checking if it works.\n"
        },
        {
            "metadata": {},
            "cell_type": "code",
            "source": "get_number_of_jobs_T(\"Python\")",
            "execution_count": 13,
            "outputs": [
                {
                    "output_type": "execute_result",
                    "execution_count": 13,
                    "data": {
                        "text/plain": "('Python', 1173)"
                    },
                    "metadata": {}
                }
            ]
        },
        {
            "metadata": {},
            "cell_type": "markdown",
            "source": "#### Write a function to find number of jobs in US for a location of your choice\n"
        },
        {
            "metadata": {},
            "cell_type": "code",
            "source": "def get_number_of_jobs_L(location):\n    \n    payload = {'Location':location}\n    response2 = requests.get(api_url1, params=payload)\n    data2=response2.json()\n    number_jobs = len(data2)\n   \n    return location,number_jobs",
            "execution_count": 17,
            "outputs": []
        },
        {
            "metadata": {},
            "cell_type": "markdown",
            "source": "Call the function for Los Angeles and check if it is working.\n"
        },
        {
            "metadata": {},
            "cell_type": "code",
            "source": "\nget_number_of_jobs_L('Los Angeles')",
            "execution_count": 18,
            "outputs": [
                {
                    "output_type": "execute_result",
                    "execution_count": 18,
                    "data": {
                        "text/plain": "('Los Angeles', 640)"
                    },
                    "metadata": {}
                }
            ]
        },
        {
            "metadata": {},
            "cell_type": "markdown",
            "source": "### Store the results in an excel file\n"
        },
        {
            "metadata": {},
            "cell_type": "markdown",
            "source": "Call the API for all the given technologies above and write the results in an excel spreadsheet.\n"
        },
        {
            "metadata": {},
            "cell_type": "markdown",
            "source": "If you do not know how create excel file using python, double click here for **hints**.\n\n<!--\n\nfrom openpyxl import Workbook        # import Workbook class from module openpyxl\nwb=Workbook()                        # create a workbook object\nws=wb.active                         # use the active worksheet\nws.append(['Country','Continent'])   # add a row with two columns 'Country' and 'Continent'\nws.append(['Eygpt','Africa'])        # add a row with two columns 'Egypt' and 'Africa'\nws.append(['India','Asia'])          # add another row\nws.append(['France','Europe'])       # add another row\nwb.save(\"countries.xlsx\")            # save the workbook into a file called countries.xlsx\n\n\n-->\n"
        },
        {
            "metadata": {},
            "cell_type": "markdown",
            "source": "Create a python list of all locations for which you need to find the number of jobs postings.\n"
        },
        {
            "metadata": {},
            "cell_type": "code",
            "source": "\nstates = ['Los Angeles', 'New York', 'San Francisco', 'Washington DC', 'Seattle', 'Austin', 'Detroit']",
            "execution_count": 19,
            "outputs": []
        },
        {
            "metadata": {},
            "cell_type": "markdown",
            "source": "Import libraries required to create excel spreadsheet\n"
        },
        {
            "metadata": {},
            "cell_type": "code",
            "source": "\nfrom openpyxl import Workbook",
            "execution_count": 20,
            "outputs": []
        },
        {
            "metadata": {},
            "cell_type": "markdown",
            "source": "Create a workbook and select the active worksheet\n"
        },
        {
            "metadata": {},
            "cell_type": "code",
            "source": "# your code goes here\nwb=Workbook()\nws=wb.active\nws.append(states)",
            "execution_count": 21,
            "outputs": []
        },
        {
            "metadata": {},
            "cell_type": "markdown",
            "source": "Find the number of jobs postings for each of the location in the above list.\nWrite the Location name and the number of jobs postings into the excel spreadsheet.\n"
        },
        {
            "metadata": {},
            "cell_type": "code",
            "source": "\n#your code goes here\ndef get_number_of_jobs_TL(technology, states):\n    number_of_jobs_list = []\n    for location in states:\n        payload={\"Key Skills\": technology, \"Location\": location}\n        response3=requests.get(api_url1, params=payload)\n        data3=response3.json()\n        number_of_jobs = len(data3)\n        number_of_jobs_list.append(number_of_jobs)\n    return number_of_jobs_list\nget_number_of_jobs_TL(\"C\", states)",
            "execution_count": 22,
            "outputs": [
                {
                    "output_type": "execute_result",
                    "execution_count": 22,
                    "data": {
                        "text/plain": "[296, 1622, 214, 2664, 1668, 224, 1973]"
                    },
                    "metadata": {}
                }
            ]
        },
        {
            "metadata": {},
            "cell_type": "markdown",
            "source": "Save into an excel spreadsheet named 'job-postings.xlsx'.\n"
        },
        {
            "metadata": {},
            "cell_type": "code",
            "source": "#your code goes here\nwb.save('job-postings.xlsx')\n\n",
            "execution_count": 55,
            "outputs": []
        },
        {
            "metadata": {},
            "cell_type": "markdown",
            "source": "#### In the similar way, you can try for below given technologies and results  can be stored in an excel sheet.\n"
        },
        {
            "metadata": {},
            "cell_type": "markdown",
            "source": "Collect the number of job postings for the following languages using the API:\n\n*   C\n*   C#\n*   C++\n*   Java\n*   JavaScript\n*   Python\n*   Scala\n*   Oracle\n*   SQL Server\n*   MySQL Server\n*   PostgreSQL\n*   MongoDB\n"
        },
        {
            "metadata": {},
            "cell_type": "code",
            "source": "technologies = [' C ', 'C#', 'C++', 'Java ', 'JavaScript', 'Python', 'Scala', 'Oracle', 'SQL Server','PostgreSQL','MongoDB', 'MySQL Server']\n\ndef get_number_of_jobs_T(technology):\n    payload = {'Key Skills':technology}\n    response1 = requests.get(api_url1, params=payload)\n    data1=response1.json()\n    number_of_jobs = len(data1)\n    return technology,number_of_jobs\n\n",
            "execution_count": 60,
            "outputs": [
                {
                    "output_type": "execute_result",
                    "execution_count": 60,
                    "data": {
                        "text/plain": "('C', 13498)"
                    },
                    "metadata": {}
                }
            ]
        },
        {
            "metadata": {},
            "cell_type": "code",
            "source": "import pandas as pd\ntechnologies = [' C ', 'C#', 'C++', 'Java', 'JavaScript', 'Python', 'Scala', 'Oracle', 'SQL Server','PostgreSQL','MongoDB', 'MySQL Server']\n\n\n(get_number_of_jobs_T(' C '), get_number_of_jobs_T('C#'), get_number_of_jobs_T('C++'), get_number_of_jobs_T('Java'),get_number_of_jobs_T('JavaScript'), get_number_of_jobs_T('Python'), get_number_of_jobs_T('Scala'),get_number_of_jobs_T('Oracle'), get_number_of_jobs_T('SQL Server'), get_number_of_jobs_T('PostgreSQL'),get_number_of_jobs_T('MongoDB'), get_number_of_jobs_T('MySQL Server') )\n\n    \ndatat = {'Jobs':['C', 'C#','C++', 'Java', 'JavaScript', 'Python', 'Scala', 'Oracle', 'SQL Server','PostgreSQL','MongoDB', 'MySQL Server'], 'Number of jobs':[3, 333,305, 2609, 355, 1173, 33, 784, 250, 10, 174, 0]}\ndf = pd.DataFrame(datat) \n\n\n\n\n",
            "execution_count": 99,
            "outputs": []
        },
        {
            "metadata": {},
            "cell_type": "code",
            "source": "df=df.sort_values(by='Number of jobs', ascending=False)\nimport matplotlib as mpl\nimport matplotlib.pyplot as plt\ndf.plot(kind = 'bar',x ='Jobs', y = 'Number of jobs', color = 'black', figsize = (18,7) )\n\nplt.title('Job postings')\nplt.ylabel('Number of jobs')\nplt.show()",
            "execution_count": 108,
            "outputs": [
                {
                    "output_type": "display_data",
                    "data": {
                        "text/plain": "<Figure size 1296x504 with 1 Axes>",
                        "image/png": "[encoded data removed]"
                    },
                    "metadata": {
                        "needs_background": "light"
                    }
                }
            ]
        },
        {
            "metadata": {},
            "cell_type": "markdown",
            "source": "## Author\n"
        },
        {
            "metadata": {},
            "cell_type": "markdown",
            "source": "Ayushi Jain\n"
        },
        {
            "metadata": {},
            "cell_type": "markdown",
            "source": "### Other Contributors\n"
        },
        {
            "metadata": {},
            "cell_type": "markdown",
            "source": "Rav Ahuja\n\nLakshmi Holla\n\nMalika\n"
        },
        {
            "metadata": {},
            "cell_type": "markdown",
            "source": "## Change Log\n"
        },
        {
            "metadata": {},
            "cell_type": "markdown",
            "source": "| Date (YYYY-MM-DD) | Version | Changed By        | Change Description                 |\n| ----------------- | ------- | ----------------- | ---------------------------------- |\n| 2022-01-19        | 0.3     | Lakshmi Holla     | Added changes in the markdown      |\n| 2021-06-25        | 0.2     | Malika            | Updated GitHub job json link       |\n| 2020-10-17        | 0.1     | Ramesh Sannareddy | Created initial version of the lab |\n"
        },
        {
            "metadata": {},
            "cell_type": "markdown",
            "source": "Copyright \u00a9 2022 IBM Corporation. All rights reserved.\n"
        }
    ],
    "metadata": {
        "kernelspec": {
            "name": "python3",
            "display_name": "Python 3.9",
            "language": "python"
        },
        "language_info": {
            "name": "python",
            "version": "3.9.7",
            "mimetype": "text/x-python",
            "codemirror_mode": {
                "name": "ipython",
                "version": 3
            },
            "pygments_lexer": "ipython3",
            "nbconvert_exporter": "python",
            "file_extension": ".py"
        }
    },
    "nbformat": 4,
    "nbformat_minor": 4
}